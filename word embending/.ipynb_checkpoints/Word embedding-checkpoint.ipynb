{
 "cells": [
  {
   "cell_type": "markdown",
   "metadata": {},
   "source": [
    "# Import et fonction de nettoyage de texte"
   ]
  },
  {
   "cell_type": "code",
   "execution_count": 7,
   "metadata": {},
   "outputs": [],
   "source": [
    "import re\n",
    "import numpy as np\n",
    "import itertools\n",
    "import pandas as pd\n",
    "import numpy as np\n",
    "import re\n",
    "import os\n",
    "from tqdm import tqdm\n",
    "import csv \n",
    "%matplotlib inline\n",
    "import matplotlib.pyplot as plt"
   ]
  },
  {
   "cell_type": "code",
   "execution_count": 32,
   "metadata": {},
   "outputs": [],
   "source": [
    "def create_unique_word_dict(text:list) -> dict:\n",
    "    \"\"\"\n",
    "    Dictionnaire de mot unique, les clés sont les mots et les valeurs sotn les indices des mots\n",
    "    \"\"\"\n",
    "    # Getting all the unique words from our text and sorting them alphabetically\n",
    "    words = list(set(text))\n",
    "    words.sort()\n",
    "\n",
    "    # Creating the dictionary for the unique words\n",
    "    unique_word_dict = {}\n",
    "    for i, word in enumerate(words):\n",
    "        unique_word_dict.update({\n",
    "            word: i\n",
    "        })\n",
    "\n",
    "    return unique_word_dict    \n",
    "\n",
    "def text_preprocessing(\n",
    "    text:list,\n",
    "    punctuations = r'''!()-[]{};:'\"`\\,<>./?@#$%^&*_“|+=~σ''',\n",
    "    stop_words=['and', 'a', 'is', 'the', 'in', 'be', 'will', ' http','arxiv','org', 'of']\n",
    "    )->list:\n",
    "    \"\"\"\n",
    "    Nettoyage du text, stop words et caractères.\n",
    "    \"\"\"\n",
    "    for x in text.lower(): \n",
    "        if x in punctuations: \n",
    "            text = text.replace(x, \"\")\n",
    "\n",
    "    # Removing words that have numbers in them\n",
    "    text = re.sub(r'\\w*\\d\\w*', '', text)\n",
    "\n",
    "    # Removing digits\n",
    "    text = re.sub(r'[0-9]+', '', text)\n",
    "\n",
    "    # Cleaning the whitespaces\n",
    "    text = re.sub(r'\\s+', ' ', text).strip()\n",
    "\n",
    "    # Setting every word to lower\n",
    "    text = text.lower()\n",
    "\n",
    "    # Converting all our text to a list \n",
    "    text = text.split(' ')\n",
    "\n",
    "    # Droping empty strings\n",
    "    text = [x for x in text if x!='']\n",
    "\n",
    "    # Droping stop words\n",
    "    text = [x for x in text if x not in stop_words]\n",
    "\n",
    "    return text"
   ]
  },
  {
   "cell_type": "code",
   "execution_count": 33,
   "metadata": {},
   "outputs": [],
   "source": [
    "def file_dict(filename):\n",
    "    texts = pd.read_csv(filename,error_bad_lines=False)\n",
    "    texts = [x for x in texts['text']]#liste des lignes\n",
    "    \n",
    "    #with open(filename,encoding='utf8') as fichier:\n",
    "     #   lines= fichier.readlines()\n",
    "      #  texts=[]\n",
    "       # for i in lines:\n",
    "        #    texts+=[i.split('|')[1]+' '+ i.split('|')[4]]\n",
    "    \n",
    "    word_lists = []\n",
    "    all_text = []\n",
    "\n",
    "    for text in texts:\n",
    "\n",
    "    # Cleaning the text\n",
    "        text = text_preprocessing(text)\n",
    "        all_text += text\n",
    "    unique_word_dict = create_unique_word_dict(all_text)\n",
    "\n",
    "    return(all_text,unique_word_dict)"
   ]
  },
  {
   "cell_type": "code",
   "execution_count": 10,
   "metadata": {},
   "outputs": [
    {
     "name": "stdout",
     "output_type": "stream",
     "text": [
      "['future', 'king', 'prince', 'daughter', 'princess', 'son', 'prince', 'only', 'man', 'can', 'king', 'only', 'woman', 'can', 'queen', 'princess', 'queen', 'queen', 'king', 'rule', 'realm', 'prince', 'strong', 'man', 'princess', 'beautiful', 'woman', 'royal', 'family', 'king', 'queen', 'their', 'children', 'prince', 'only', 'boy', 'now', 'boy', 'man']\n",
      "{'beautiful': 0, 'boy': 1, 'can': 2, 'children': 3, 'daughter': 4, 'family': 5, 'future': 6, 'king': 7, 'man': 8, 'now': 9, 'only': 10, 'prince': 11, 'princess': 12, 'queen': 13, 'realm': 14, 'royal': 15, 'rule': 16, 'son': 17, 'strong': 18, 'their': 19, 'woman': 20}\n"
     ]
    }
   ],
   "source": [
    "print(file_dict('input/sample.csv')[0])\n",
    "\n",
    "print(file_dict('input/sample.csv')[1])"
   ]
  },
  {
   "cell_type": "markdown",
   "metadata": {},
   "source": [
    "# Préparation des données"
   ]
  },
  {
   "cell_type": "code",
   "execution_count": 16,
   "metadata": {},
   "outputs": [],
   "source": [
    "def create_X(text,dict):\n",
    "    V=len(text)\n",
    "    X=np.zeros((V,len(dict)))\n",
    "    indice=0\n",
    "    for i in text:\n",
    "        for cle, valeur in dict.items():\n",
    "            if i==cle :\n",
    "                \n",
    "                X[indice,valeur]=1\n",
    "        indice+=1\n",
    "    return X"
   ]
  },
  {
   "cell_type": "code",
   "execution_count": 17,
   "metadata": {},
   "outputs": [
    {
     "name": "stdout",
     "output_type": "stream",
     "text": [
      "[6, 7, 11, 4, 12, 17, 11, 10, 8, 2, 7, 10, 20, 2, 13, 12, 13, 13, 7, 16, 14, 11, 18, 8, 12, 0, 20, 15, 5, 7, 13, 19, 3, 11, 10, 1, 9, 1, 8]\n"
     ]
    }
   ],
   "source": [
    "#D=create_D(file_dict('input/arxiv_test.csv')[1])\n",
    "\n",
    "A=create_X(file_dict('input/sample.csv')[0],file_dict('input/sample.csv')[1])\n",
    "\n",
    "X=[]\n",
    "for i in range(np.shape(A)[0]):\n",
    "    for j in range(np.shape(A)[1]):\n",
    "        if A[i,j]==1 :\n",
    "            X.append(j)\n",
    "#print(A[36:39,:])\n",
    "#print(X[36:39])\n",
    "print(X)"
   ]
  },
  {
   "cell_type": "code",
   "execution_count": 18,
   "metadata": {},
   "outputs": [],
   "source": [
    "#liste des groupes de 4 mots\n",
    "def context_list(X,context):\n",
    "    list=[]\n",
    "    for i in range(len(X)-context+1):\n",
    "        list.append(X[i:i+context])\n",
    "    return list"
   ]
  },
  {
   "cell_type": "code",
   "execution_count": 19,
   "metadata": {},
   "outputs": [
    {
     "name": "stdout",
     "output_type": "stream",
     "text": [
      "[[6, 7, 11], [7, 11, 4], [11, 4, 12], [4, 12, 17], [12, 17, 11], [17, 11, 10], [11, 10, 8], [10, 8, 2], [8, 2, 7], [2, 7, 10], [7, 10, 20], [10, 20, 2], [20, 2, 13], [2, 13, 12], [13, 12, 13], [12, 13, 13], [13, 13, 7], [13, 7, 16], [7, 16, 14], [16, 14, 11], [14, 11, 18], [11, 18, 8], [18, 8, 12], [8, 12, 0], [12, 0, 20], [0, 20, 15], [20, 15, 5], [15, 5, 7], [5, 7, 13], [7, 13, 19], [13, 19, 3], [19, 3, 11], [3, 11, 10], [11, 10, 1], [10, 1, 9], [1, 9, 1], [9, 1, 8]]\n"
     ]
    }
   ],
   "source": [
    "print(context_list(X,3))"
   ]
  },
  {
   "cell_type": "code",
   "execution_count": 20,
   "metadata": {},
   "outputs": [],
   "source": [
    "def vectoword(X,dict): #avec le hot vector je récupère le mot\n",
    "    c=0\n",
    "    d=''\n",
    "    for i in range(len(X)):\n",
    "        if X[i]==1:\n",
    "            c=i\n",
    "    for cle, valeur in dict.items():\n",
    "        if valeur==c:\n",
    "            d=cle\n",
    "    return d\n",
    "def vectoword2(i,dict): #avec l'indice je récupère le mot\n",
    "    c=i\n",
    "    d=''\n",
    "    for cle, valeur in dict.items():\n",
    "        if valeur==c:\n",
    "            d=cle\n",
    "    return d"
   ]
  },
  {
   "cell_type": "code",
   "execution_count": 21,
   "metadata": {},
   "outputs": [
    {
     "name": "stdout",
     "output_type": "stream",
     "text": [
      "future\n"
     ]
    }
   ],
   "source": [
    "print(vectoword2(X[0],file_dict('input/sample.csv')[1]))"
   ]
  },
  {
   "cell_type": "code",
   "execution_count": 22,
   "metadata": {},
   "outputs": [
    {
     "name": "stdout",
     "output_type": "stream",
     "text": [
      "[[6, 7, 11], [7, 11, 4], [11, 4, 12], [4, 12, 17], [12, 17, 11], [17, 11, 10], [11, 10, 8], [10, 8, 2], [8, 2, 7], [2, 7, 10], [7, 10, 20], [10, 20, 2], [20, 2, 13], [2, 13, 12], [13, 12, 13], [12, 13, 13], [13, 13, 7], [13, 7, 16], [7, 16, 14], [16, 14, 11], [14, 11, 18], [11, 18, 8], [18, 8, 12], [8, 12, 0], [12, 0, 20], [0, 20, 15], [20, 15, 5], [15, 5, 7], [5, 7, 13], [7, 13, 19], [13, 19, 3], [19, 3, 11], [3, 11, 10], [11, 10, 1], [10, 1, 9], [1, 9, 1]]\n"
     ]
    }
   ],
   "source": [
    "#données\n",
    "n=4\n",
    "x=context_list(X,3)\n",
    "Y=A[3:,]\n",
    "y=[]\n",
    "for i in range(np.shape(Y)[0]):\n",
    "    y.append(Y[i])\n",
    "x=x[:-1]\n",
    "dict_size=21\n",
    "nb_features=100\n",
    "h=20\n",
    "#print(len(y))\n",
    "#print(vectoword(y[1],file_dict('input/sample.csv')[1]))\n",
    "print(x)"
   ]
  },
  {
   "cell_type": "markdown",
   "metadata": {},
   "source": [
    "# Réseau "
   ]
  },
  {
   "cell_type": "code",
   "execution_count": 25,
   "metadata": {},
   "outputs": [
    {
     "name": "stdout",
     "output_type": "stream",
     "text": [
      "(30, 36)\n",
      "(36, 3)\n",
      "[[6, 7, 11], [7, 11, 4], [11, 4, 12], [4, 12, 17], [12, 17, 11], [17, 11, 10], [11, 10, 8], [10, 8, 2], [8, 2, 7], [2, 7, 10], [7, 10, 20], [10, 20, 2], [20, 2, 13], [2, 13, 12], [13, 12, 13], [12, 13, 13], [13, 13, 7], [13, 7, 16], [7, 16, 14], [16, 14, 11], [14, 11, 18], [11, 18, 8], [18, 8, 12], [8, 12, 0], [12, 0, 20], [0, 20, 15], [20, 15, 5], [15, 5, 7], [5, 7, 13], [7, 13, 19], [13, 19, 3], [19, 3, 11], [3, 11, 10], [11, 10, 1], [10, 1, 9], [1, 9, 1]]\n"
     ]
    }
   ],
   "source": [
    "np.random.seed(0)\n",
    "import Neuralword as Neur\n",
    "from Neuralword import ilogit\n",
    "nb_features=10\n",
    "L1 = Neur.Project_and_concat(10,21)\n",
    "#print(self.C)\n",
    "print(np.shape(L1.forward(x)))\n",
    "#print(dict_size)\n",
    "print(np.shape(x))\n",
    "print(x)"
   ]
  },
  {
   "cell_type": "code",
   "execution_count": 26,
   "metadata": {},
   "outputs": [],
   "source": [
    "N=Neur.Network([Neur.Project_and_concat(10,21),Neur.Dense(30,10),Neur.tanh(),Neur.Dense(10,21)])\n",
    "#print(np.shape((N.forward(x).T)))\n",
    "\n",
    "\n",
    "\n",
    "#print(np.shape(Neur.ilogit(N.forward(x)).T)[0])\n",
    "\n",
    "#np.sum((Neur.ilogit(N.forward(x)).T),axis=1)\n",
    "\n",
    "\n",
    "#for i range(np.shape(Y)[0]):\n",
    "    \n",
    "\n",
    "    \n",
    "    \n",
    "#print(np.shape(N.forward(x)))\n",
    "np.shape(ilogit(N.forward(x)))\n",
    "#Z=Neur.ilogit(N.forward(x))\n",
    "\n",
    "#print(np.sum(Z.T,axis=1))\n",
    "#print(np.shape(np.sum(Z.T,axis=1)))\n",
    "#print(len(y))\n",
    "\n",
    "#print(np.shape(V))\n",
    "yn=np.array(y)\n",
    "yt=yn.T\n",
    "#print(np.shape(x))\n",
    "#print(np.shape(yt))\n",
    "\n"
   ]
  },
  {
   "cell_type": "code",
   "execution_count": 27,
   "metadata": {},
   "outputs": [
    {
     "name": "stdout",
     "output_type": "stream",
     "text": [
      "(751,)\n"
     ]
    }
   ],
   "source": [
    "np.random.seed(42)\n",
    "N=Neur.Network([Neur.Project_and_concat(10,21),Neur.Dense(30,10),Neur.tanh(),Neur.Dense(10,21)])\n",
    "N_a=Neur.Network([N,Neur.Ilogit_and_KL(yt)])\n",
    "\n",
    "#L1=N.list_layers[-1].backward(forward_save)\n",
    "#L2=N.list_layers[-2].backward(L1[1])\n",
    "#L3=N.list_layers[-3].backward(L2[1])\n",
    "#L4=N.list_layers[-4].backward(L3[1])\n",
    "\n",
    "#print(np.shape(L1[0]))\n",
    "#print(np.shape(L2[0]))\n",
    "#print(np.shape(L3[0]))\n",
    "#print(np.shape(L4[0]))\n",
    "\n",
    "L=N_a.forward(x)\n",
    "\n",
    "#G1=N_a.list_layers[-1].backward(L)\n",
    "\n",
    "#print(np.shape(G1[1]))\n",
    "\n",
    "#G2=N_a.list_layers[-2].list_layers[-1].backward(G1[1])\n",
    "#G3=N_a.list_layers[-2].list_layers[-2].backward(G2[1])\n",
    "#G4=N_a.list_layers[-2].list_layers[-3].backward(G3[1])\n",
    "#G5=N_a.list_layers[-2].list_layers[-4].backward(G4[1])\n",
    "\n",
    "#print(np.shape(G5[0]))\n",
    "\n",
    "Z=N_a.backward(L)\n",
    "\n",
    "#print(L)\n",
    "\n",
    "#print(x)\n",
    "print(Z[0].shape)"
   ]
  },
  {
   "cell_type": "code",
   "execution_count": 28,
   "metadata": {},
   "outputs": [],
   "source": [
    "def plot_N(N):\n",
    "    Z=N.forward(x)\n",
    "    V=ilogit(Z)\n",
    "    m=0\n",
    "    for i in range(len(y)):\n",
    "        m=np.argmax(V[:,i])\n",
    "        print(vectoword(y[i],file_dict('input/sample.csv')[1]) + \" prédit par \" + vectoword2(m,file_dict('input/sample.csv')[1]))\n",
    "    \n",
    "def accuracy(x, y):\n",
    "        Z=ilogit(N.forward(x))\n",
    "        y_preds = np.argmax(Z, axis=0)\n",
    "        y_real= np.argmax(yt, axis=0)\n",
    "        acc = np.mean(y_preds == y_real)\n",
    "        return acc "
   ]
  },
  {
   "cell_type": "code",
   "execution_count": 29,
   "metadata": {},
   "outputs": [
    {
     "name": "stdout",
     "output_type": "stream",
     "text": [
      "fin\n"
     ]
    }
   ],
   "source": [
    "theta=np.random.randn(N.nb_params)\n",
    "N.set_params(theta)\n",
    "acc=[]\n",
    "loss=[]\n",
    "epochs=np.arange(1,1000,1)\n",
    "#choix d'un pas\n",
    "dt=0.01/15\n",
    "for i in epochs:\n",
    "    deltaY=N.forward(x)\n",
    "    grad=N_a.backward(None)[0]\n",
    "    theta=theta-dt*grad\n",
    "    N_a.set_params(theta)\n",
    "    acc.append(accuracy(x,y))\n",
    "    loss.append(N_a.forward(x))\n",
    "    if i%40==0:\n",
    "        N.set_params(theta)\n",
    "        #plot_N(N)\n",
    "        #print(\"-----------------\")\n",
    "print(\"fin\")"
   ]
  },
  {
   "cell_type": "code",
   "execution_count": 30,
   "metadata": {},
   "outputs": [
    {
     "name": "stdout",
     "output_type": "stream",
     "text": [
      "[ 4  2 17 11 10  8  2  7 10 20  2 13 12 13 13  7 16 14 11 18  8 12  0 20\n",
      " 15  5  7 13 19  3 11 10  1  9  1  8]\n",
      "[ 4 12 17 11 10  8  2  7 10 20  2 13 12 13 13  7 16 14 11 18  8 12  0 20\n",
      " 15  5  7 13 19  3 11 10  1  9  1  8]\n"
     ]
    },
    {
     "data": {
      "image/png": "[encoded data removed]",
      "text/plain": [
       "<Figure size 1440x360 with 2 Axes>"
      ]
     },
     "metadata": {
      "needs_background": "light"
     },
     "output_type": "display_data"
    }
   ],
   "source": [
    "fig = plt.figure(figsize=(20,5))\n",
    "ax = fig.add_subplot(1,2,1)\n",
    "ax.plot(loss,color='r')\n",
    "ax.set_xlabel(\"Epochs\")\n",
    "ax.set_ylabel(\"Loss\")\n",
    "ax.set_title(\"fonction perte\");\n",
    "ax = fig.add_subplot(1,2,2)\n",
    "ax.plot(acc,color='r')\n",
    "ax.set_ylabel(\"accuracy\")\n",
    "ax.set_xlabel(\"Epochs\")\n",
    "ax.set_title(\"Accuracy\");\n",
    "\n",
    "Z=ilogit(N.forward(x))\n",
    "y_preds = np.argmax(Z, axis=0)\n",
    "y_real= np.argmax(yt, axis=0)\n",
    "print(y_preds)\n",
    "print(y_real)"
   ]
  },
  {
   "cell_type": "code",
   "execution_count": null,
   "metadata": {},
   "outputs": [],
   "source": []
  },
  {
   "cell_type": "code",
   "execution_count": null,
   "metadata": {},
   "outputs": [],
   "source": []
  }
 ],
 "metadata": {
  "kernelspec": {
   "display_name": "Python 3",
   "language": "python",
   "name": "python3"
  },
  "language_info": {
   "codemirror_mode": {
    "name": "ipython",
    "version": 3
   },
   "file_extension": ".py",
   "mimetype": "text/x-python",
   "name": "python",
   "nbconvert_exporter": "python",
   "pygments_lexer": "ipython3",
   "version": "3.8.5"
  }
 },
 "nbformat": 4,
 "nbformat_minor": 4
}
