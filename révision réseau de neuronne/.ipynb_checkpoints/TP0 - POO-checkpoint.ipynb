{
 "cells": [
  {
   "cell_type": "markdown",
   "metadata": {},
   "source": [
    "# Introduction à la notion de classe"
   ]
  },
  {
   "cell_type": "markdown",
   "metadata": {},
   "source": [
    "Dans ce travail pratique, on s'intéresse aux classes du language Python. Ces classes permettent la création d'objets qui ont avec eux leurs propres variables et leurs propres fonctions."
   ]
  },
  {
   "cell_type": "markdown",
   "metadata": {},
   "source": [
    "## Partie 1: Une classe simple"
   ]
  },
  {
   "cell_type": "markdown",
   "metadata": {},
   "source": [
    "Afin de vous familiariser avec ce concept, on introduit la classe `Humain` ci-dessous qui contient, pour le moment, une variable (le nom) et une fonction (la présentation)."
   ]
  },
  {
   "cell_type": "code",
   "execution_count": 2,
   "metadata": {},
   "outputs": [],
   "source": [
    "class Humain():\n",
    "    def __init__(self, Nom):\n",
    "        self.Nom = Nom\n",
    "    def presentation(self):\n",
    "        s = 'Bonjour, je suis ' + self.Nom + \".\"\n",
    "        print(s)"
   ]
  },
  {
   "cell_type": "markdown",
   "metadata": {},
   "source": [
    "La fonction `__init__` est une fonction particulière puisque c'est elle qui est appelée dès qu'un objet est créé. Afin d'accéder à une certaine variable ou fonction d'un objet, la nomenclature est d'écrire le nom de l'objet suivi d'un point et le nom de la variable ou fonction."
   ]
  },
  {
   "cell_type": "code",
   "execution_count": 3,
   "metadata": {},
   "outputs": [
    {
     "name": "stdout",
     "output_type": "stream",
     "text": [
      "Alice\n"
     ]
    }
   ],
   "source": [
    "A = Humain('Alice')\n",
    "print(A.Nom)\n",
    "B=Humain('Mouloud')\n",
    "pei"
   ]
  },
  {
   "cell_type": "markdown",
   "metadata": {},
   "source": [
    "Lorsque l'on définit une fonction de cette manière, par convention, la première variable s'appelle `self` et fait référence à l'objet lui-même. Par exemple, lorsque l'on fait appel à la fonction presentation, on peut voir que l'on va chercher la variable `Nom` relative à l'objet."
   ]
  },
  {
   "cell_type": "code",
   "execution_count": null,
   "metadata": {},
   "outputs": [],
   "source": [
    "A.presentation()"
   ]
  },
  {
   "cell_type": "markdown",
   "metadata": {},
   "source": [
    "A tout moment, on peut modifier les variables d'un objet."
   ]
  },
  {
   "cell_type": "code",
   "execution_count": null,
   "metadata": {},
   "outputs": [],
   "source": [
    "A.Nom = 'Alain'\n",
    "A.presentation()"
   ]
  },
  {
   "cell_type": "markdown",
   "metadata": {},
   "source": [
    "Il est aussi possible de créer plusieurs objets différents qui ne partagent pas les mêmes variables."
   ]
  },
  {
   "cell_type": "code",
   "execution_count": null,
   "metadata": {},
   "outputs": [],
   "source": [
    "B = Humain('Bertrand')\n",
    "B.presentation()\n",
    "A.presentation()"
   ]
  },
  {
   "cell_type": "markdown",
   "metadata": {},
   "source": [
    "## Partie 2: Une classe plus sophistiquée"
   ]
  },
  {
   "cell_type": "markdown",
   "metadata": {},
   "source": [
    "Nous introduisons maintenant de nouvelles variables dans la classe `Humain`: les variables `Amant` et `Conjoint` font référence à des objets de la classe `Humain`.\n",
    "\n",
    "On donne aussi une fonction `presentation` plus élaborée prenant en compte ces nouvelles variables."
   ]
  },
  {
   "cell_type": "code",
   "execution_count": null,
   "metadata": {},
   "outputs": [],
   "source": [
    "class Humain():\n",
    "    def __init__(self, Nom):\n",
    "        self.Nom = Nom\n",
    "        self.Amant = None\n",
    "        self.Conjoint = None\n",
    "    def presentation(self):\n",
    "        s='Bonjour, je suis ' + self.Nom\n",
    "        if self.Conjoint :\n",
    "            s+=\", je suis en couple avec \" + self.Conjoint.Nom\n",
    "        if self.Amant :\n",
    "            s+=\", j'aime \"+ self.Amant.Nom\n",
    "        s+=\".\"\n",
    "        print(s)"
   ]
  },
  {
   "cell_type": "code",
   "execution_count": null,
   "metadata": {},
   "outputs": [],
   "source": [
    "A = Humain('Alice')\n",
    "B = Humain('Bertrand')\n",
    "C = Humain('Charles')\n",
    "A.presentation()\n",
    "A.Amant = B\n",
    "A.presentation()\n",
    "A.Conjoint = C\n",
    "A.presentation()\n",
    "A.Amant = None\n",
    "A.presentation()"
   ]
  },
  {
   "cell_type": "markdown",
   "metadata": {},
   "source": [
    "On va ajouter une fonction `separation` à la classe. Si l'objet `self` auquel on applique cette fonction a sa variable `Conjoint` à `None`, on ne fait rien. Sinon, on imprime un message d'annonce de la séparation contenant les variables `Nom` de l'objet `self` et de `self.Conjoint`. Puis, on met à `None` la variable `Conjoint` de l'objet `self` et, aussi, celle de `self.Conjoint`. "
   ]
  },
  {
   "cell_type": "code",
   "execution_count": null,
   "metadata": {},
   "outputs": [],
   "source": [
    "class Humain():\n",
    "    def __init__(self, Nom):\n",
    "        self.Nom = Nom\n",
    "        self.Amant = None\n",
    "        self.Conjoint = None\n",
    "    def presentation(self):\n",
    "        s='Bonjour, je suis ' + self.Nom\n",
    "        if self.Conjoint :\n",
    "            s+=\", je suis en couple avec \" + self.Conjoint.Nom\n",
    "        if self.Amant :\n",
    "            s+=\", j'aime \"+ self.Amant.Nom\n",
    "        s+=\".\"\n",
    "        print(s)\n",
    "    def separation(self):\n",
    "        # Complétez votre code ici\n",
    "        pass"
   ]
  },
  {
   "cell_type": "markdown",
   "metadata": {},
   "source": [
    "On pourra tester la fonction avec les instructions suivantes."
   ]
  },
  {
   "cell_type": "code",
   "execution_count": null,
   "metadata": {},
   "outputs": [],
   "source": [
    "A = Humain('Alice')\n",
    "A.separation()\n",
    "A.presentation()\n",
    "B = Humain('Bertrand')\n",
    "A.Conjoint = B\n",
    "B.Conjoint = A\n",
    "A.presentation()\n",
    "B.presentation()\n",
    "A.separation()\n",
    "A.presentation()\n",
    "B.presentation()"
   ]
  },
  {
   "cell_type": "markdown",
   "metadata": {},
   "source": [
    "On va ajouter une fonction `aime` à la classe. Elle prend en entrée (en plus de `self`) un autre objet `Humain` noté `other`. Dans un premier temps, la variable `Amant` de `self` est mise à `other`. Ensuite, on teste si: \n",
    "- `other` n'est pas le conjoint de `self`,\n",
    "- et si `self` est égal à la variable `Amant` de `other`.\n",
    "\n",
    "Dans ce cas `self` et `other` lance leur fonction `separation` et deviennent `Conjoint` l'un de l'autre.\n",
    "De plus on imprime un message annoncant que `self` et `other` sont en couple."
   ]
  },
  {
   "cell_type": "code",
   "execution_count": 1,
   "metadata": {},
   "outputs": [],
   "source": [
    "class Humain():\n",
    "    def __init__(self, Nom):\n",
    "        self.Nom = Nom\n",
    "        self.Amant = None\n",
    "        self.Conjoint = None\n",
    "    def presentation(self):\n",
    "        s='Bonjour, je suis ' + self.Nom\n",
    "        if self.Amant :\n",
    "            s+=\", j'aime \"+ self.Amant.Nom\n",
    "        if self.Conjoint :\n",
    "            s+=\", je suis marié(e) à \" + self.Conjoint.Nom\n",
    "        s+=\".\"\n",
    "        print(s)\n",
    "    def aime(self,other) :\n",
    "        pass\n",
    "    def separation(self) :\n",
    "        pass"
   ]
  },
  {
   "cell_type": "code",
   "execution_count": 2,
   "metadata": {},
   "outputs": [
    {
     "name": "stdout",
     "output_type": "stream",
     "text": [
      "Bonjour, je suis Alice.\n",
      "Bonjour, je suis Bertrand.\n",
      "Bonjour, je suis Charles.\n",
      "%%%%%%%%\n",
      "Bonjour, je suis Alice.\n",
      "Bonjour, je suis Bertrand.\n",
      "Bonjour, je suis Charles.\n",
      "%%%%%%%%\n",
      "Bonjour, je suis Alice.\n",
      "Bonjour, je suis Bertrand.\n",
      "Bonjour, je suis Charles.\n",
      "%%%%%%%%\n",
      "Bonjour, je suis Alice.\n",
      "Bonjour, je suis Bertrand.\n",
      "Bonjour, je suis Charles.\n"
     ]
    }
   ],
   "source": [
    "A=Humain('Alice')\n",
    "B=Humain('Bertrand')\n",
    "C=Humain('Charles')\n",
    "A.aime(B)\n",
    "A.presentation()\n",
    "B.presentation()\n",
    "C.presentation()\n",
    "print('%%%%%%%%')\n",
    "B.aime(A)\n",
    "A.presentation()\n",
    "B.presentation()\n",
    "C.presentation()\n",
    "print('%%%%%%%%')\n",
    "A.aime(C)\n",
    "A.presentation()\n",
    "B.presentation()\n",
    "C.presentation()\n",
    "print('%%%%%%%%')\n",
    "C.aime(A)\n",
    "A.presentation()\n",
    "B.presentation()\n",
    "C.presentation()"
   ]
  },
  {
   "cell_type": "code",
   "execution_count": null,
   "metadata": {},
   "outputs": [],
   "source": []
  }
 ],
 "metadata": {
  "kernelspec": {
   "display_name": "Python 3",
   "language": "python",
   "name": "python3"
  },
  "language_info": {
   "codemirror_mode": {
    "name": "ipython",
    "version": 3
   },
   "file_extension": ".py",
   "mimetype": "text/x-python",
   "name": "python",
   "nbconvert_exporter": "python",
   "pygments_lexer": "ipython3",
   "version": "3.7.6"
  }
 },
 "nbformat": 4,
 "nbformat_minor": 1
}
