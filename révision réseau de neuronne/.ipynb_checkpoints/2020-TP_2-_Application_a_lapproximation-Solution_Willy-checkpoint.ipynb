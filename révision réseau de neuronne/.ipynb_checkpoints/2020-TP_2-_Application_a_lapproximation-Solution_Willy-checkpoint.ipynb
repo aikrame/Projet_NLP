{
 "cells": [
  {
   "cell_type": "markdown",
   "metadata": {},
   "source": [
    "# Application à la théorie de l'approximation\n",
    "Dans cette première partie, on a une fonction $f:\\mathbb R^n \\rightarrow \\mathbb R^q$ qui n'est connue que sur un certain nombre de points $n_{data}$. L'objectif est d'approximer cette fonction $f$ en dehors des points qui sont connus. "
   ]
  },
  {
   "cell_type": "code",
   "execution_count": 1,
   "metadata": {},
   "outputs": [],
   "source": [
    "%load_ext autoreload\n",
    "%autoreload 2\n",
    "%matplotlib inline\n",
    "import numpy as np\n",
    "import matplotlib.pyplot as plt\n",
    "import Neural as Neur"
   ]
  },
  {
   "cell_type": "markdown",
   "metadata": {},
   "source": [
    "# Première application \n",
    "Ici $f$ est une fonction de $[0,1]$ dans $\\mathbb{R}$ donnée par \n",
    "$x\\mapsto \\sin(6\\pi |x|^{3/2}) +x^2$. Les données d'entrées $x_i$ sont les 256 points répartis uniforméments sur $[0,1]$ et les données de sorties sont les 256 réels donnés par $y_i=f(x_i)$. créez ces données dans un tableau `x` et `y` respectivement."
   ]
  },
  {
   "cell_type": "code",
   "execution_count": 2,
   "metadata": {},
   "outputs": [],
   "source": [
    "import numpy as np\n",
    "import matplotlib.pyplot as plt\n",
    "import pandas as pd"
   ]
  },
  {
   "cell_type": "code",
   "execution_count": 3,
   "metadata": {},
   "outputs": [],
   "source": [
    "def original_function(x):\n",
    "    return np.sin(6 * np.pi * np.power(np.abs(x), 1.5)) + x**2"
   ]
  },
  {
   "cell_type": "code",
   "execution_count": 4,
   "metadata": {},
   "outputs": [],
   "source": [
    "X = np.random.uniform(size=[1, 256])\n",
    "Y = original_function(X)\n",
    "x_sorted = np.sort(X[0, :])\n",
    "y_sorted = original_function(x_sorted)"
   ]
  },
  {
   "cell_type": "code",
   "execution_count": 5,
   "metadata": {},
   "outputs": [
    {
     "data": {
      "image/png": "[encoded data removed]",
      "text/plain": [
       "<Figure size 432x288 with 1 Axes>"
      ]
     },
     "metadata": {
      "needs_background": "light"
     },
     "output_type": "display_data"
    }
   ],
   "source": [
    "plt.scatter(x_sorted, y_sorted)\n",
    "plt.show()"
   ]
  },
  {
   "cell_type": "markdown",
   "metadata": {},
   "source": [
    "La fonction d'activation que nous allons utiliser est la fonction\n",
    "$$x\\mapsto \\frac{1}{1+e^{-x}}$$\n",
    "Implémentez cette fonction d'activation ainsi que sa dérivée dans la classe `Sigmoid`.\n",
    "\n"
   ]
  },
  {
   "cell_type": "code",
   "execution_count": 6,
   "metadata": {},
   "outputs": [
    {
     "name": "stdout",
     "output_type": "stream",
     "text": [
      "[0.5        0.95257413 0.88079708]\n",
      "(None, array([0.        , 0.13552998, 0.20998717]))\n"
     ]
    }
   ],
   "source": [
    "import Neural_corr as Neur\n",
    "L=Neur.Sigmoid()\n",
    "x2=np.array([0,3,2])\n",
    "print(L.forward(x2))\n",
    "print(L.backward(x2))\n",
    "# Vous devez trouver\n",
    "# [0.5        0.95257413 0.88079708]\n",
    "# (None, array([0.        , 0.13552998, 0.20998717]))"
   ]
  },
  {
   "cell_type": "markdown",
   "metadata": {},
   "source": [
    "# Approximation par réseau de neurones profond\n",
    "Nous allons construire 2 réseaux de neurones, le premier, noté `N` sera une couche Dense de taille $(1,12)$ suivi d'une sigmoïde et d'une couche dense $(12,1)$. Ce réseau de Neurone sera l'approximation de notre fonction $f$. Nous allons aussi créer un réseau de neurone noté `N_a` qui sera `N` suivi d'une couche de perte en norme $L^2$. Nous nous servirons de `N_a` pour l'optimisation. Créez ces deux réseaux de neurones et utilisez `N_a` pour lancer un algorithme de gradient à pas fixe avec $2000$ itérations, en faisant attention à bien régler le pas (vous verrez c'est quasiment impossible). Votre algorithme doit sortir l'évolution de la fonction objectif le long des itérations. Vous afficherez aussi le plit des vraies données et des prédictions du réseau de Neurone."
   ]
  },
  {
   "cell_type": "markdown",
   "metadata": {},
   "source": [
    "## Verification numerique du gradient"
   ]
  },
  {
   "cell_type": "code",
   "execution_count": 7,
   "metadata": {},
   "outputs": [],
   "source": [
    "# Verification numerique du gradient\n",
    "np.random.seed(13)"
   ]
  },
  {
   "cell_type": "code",
   "execution_count": 8,
   "metadata": {},
   "outputs": [
    {
     "name": "stdout",
     "output_type": "stream",
     "text": [
      "[[-1.82167367e-06]] -1.5543421228780827 [[-1.5543403]]\n"
     ]
    }
   ],
   "source": [
    "# Verification pour les valeurs de x\n",
    "\n",
    "h = 1e-5\n",
    "x = np.random.randn(1, 1)\n",
    "Y = original_function(x)\n",
    "\n",
    "N=Neur.Network([Neur.Dense(1,12),Neur.Sigmoid(),Neur.Dense(12,1)])\n",
    "N_a=Neur.Network([N,Neur.Loss_L2(Y)])\n",
    "\n",
    "f_x_plus_h = N_a.forward(x+h)\n",
    "f_x = N_a.forward(x)\n",
    "num_deriv = (f_x_plus_h - f_x) / h\n",
    "theor_deriv = N_a.backward(None)[1]\n",
    "print(num_deriv - theor_deriv, num_deriv, theor_deriv)\n"
   ]
  },
  {
   "cell_type": "code",
   "execution_count": 9,
   "metadata": {},
   "outputs": [
    {
     "name": "stdout",
     "output_type": "stream",
     "text": [
      "-3.2112182195564998e-06 1.722313877729769 1.7223170889479886\n"
     ]
    }
   ],
   "source": [
    "# Verification pour les parametres internes\n",
    "\n",
    "theta = N_a.get_params()\n",
    "d = np.random.randn(len(theta), 1)\n",
    "d = d / np.linalg.norm(d)\n",
    "d = d[:, 0]\n",
    "\n",
    "fx = N_a.forward(x)\n",
    "theor_grad = np.dot(N_a.backward(None)[0], d)\n",
    "\n",
    "N_a.set_params(theta + h*d)\n",
    "fx_plus_h = N_a.forward(x)\n",
    "num_grad = (fx_plus_h - fx) / h\n",
    "print(theor_grad - num_grad, theor_grad, num_grad)\n",
    "\n"
   ]
  },
  {
   "cell_type": "markdown",
   "metadata": {},
   "source": [
    "## Approximation"
   ]
  },
  {
   "cell_type": "code",
   "execution_count": 10,
   "metadata": {},
   "outputs": [],
   "source": [
    "X = np.random.uniform(size=[1, 256])\n",
    "Y = original_function(X)\n",
    "x_sorted = np.sort(X[0, :])\n",
    "y_sorted = original_function(x_sorted)"
   ]
  },
  {
   "cell_type": "code",
   "execution_count": 11,
   "metadata": {},
   "outputs": [],
   "source": [
    "np.random.seed(13)\n",
    "N=Neur.Network([Neur.Dense(1,12),Neur.Sigmoid(),Neur.Dense(12,1)])\n",
    "N_a=Neur.Network([N,Neur.Loss_L2(Y)])"
   ]
  },
  {
   "cell_type": "code",
   "execution_count": 12,
   "metadata": {},
   "outputs": [],
   "source": [
    "def Grad_desc(NN, X, alpha, theta_0, eps=1e-6, max_iter=2000):\n",
    "    NN.set_params(theta_0)\n",
    "    loss = [NN.forward(X)]\n",
    "    nb_iter = 0\n",
    "    theta = theta_0\n",
    "    while (loss[-1] > eps) and (nb_iter < max_iter):\n",
    "        grad = NN.backward(None)[0]\n",
    "        theta = theta - alpha*grad\n",
    "        NN.set_params(theta)\n",
    "        loss.append(NN.forward(X))\n",
    "        nb_iter += 1\n",
    "    return loss\n",
    "        \n",
    "    "
   ]
  },
  {
   "cell_type": "code",
   "execution_count": 13,
   "metadata": {},
   "outputs": [],
   "source": [
    "Y_before = N.forward(X)"
   ]
  },
  {
   "cell_type": "code",
   "execution_count": 14,
   "metadata": {},
   "outputs": [],
   "source": [
    "theta_0 = np.random.randn(N_a.nb_params)\n",
    "alpha = 0.00005\n",
    "loss = Grad_desc(N_a, X, alpha, theta_0)"
   ]
  },
  {
   "cell_type": "code",
   "execution_count": 15,
   "metadata": {},
   "outputs": [
    {
     "data": {
      "image/png": "[encoded data removed]",
      "text/plain": [
       "<Figure size 432x288 with 1 Axes>"
      ]
     },
     "metadata": {
      "needs_background": "light"
     },
     "output_type": "display_data"
    }
   ],
   "source": [
    "plt.plot(loss)\n",
    "plt.show()"
   ]
  },
  {
   "cell_type": "code",
   "execution_count": 16,
   "metadata": {},
   "outputs": [],
   "source": [
    "Y_after = N.forward(X)\n",
    "Y_real = original_function(X)\n",
    "df = pd.DataFrame({'X':X[0], 'Y_before':Y_before[0], \n",
    "                   'Y_after':Y_after[0], 'Y_real':Y_real[0]})\n",
    "df = df.sort_values('X')"
   ]
  },
  {
   "cell_type": "code",
   "execution_count": 17,
   "metadata": {},
   "outputs": [
    {
     "data": {
      "image/png": "[encoded data removed]",
      "text/plain": [
       "<Figure size 432x288 with 1 Axes>"
      ]
     },
     "metadata": {
      "needs_background": "light"
     },
     "output_type": "display_data"
    }
   ],
   "source": [
    "fig = plt.figure()\n",
    "ax = fig.add_subplot(1, 1, 1)\n",
    "ax.plot(np.array(df['X']), np.array(df['Y_before']), label='before')\n",
    "ax.plot(np.array(df['X']), np.array(df['Y_after']), label='after')\n",
    "ax.scatter(np.array(df['X']), np.array(df['Y_real']), label='real')\n",
    "\n",
    "plt.legend(loc='best')\n",
    "plt.show()"
   ]
  },
  {
   "cell_type": "markdown",
   "metadata": {},
   "source": [
    "Normalement vous ne devez pas avoir réussi à trouver le bon pas. Nous allons donc lancer un algorithme d'optimisation de `scipy` qui s'appelle `BFGS`. Si vous créez une fonction `func(u)` qui vous calcule le coût et une fonction `nablafunc(u)` qui vous rend le gradient de la fonction `func`, alors l'algorithme de `BFGS` que nous allons utiliser se lance avec :\n",
    "`from scipy.optimize import minimize`\n",
    "`res=minimize(func, u, method='BFGS', jac=nablafunc, options={'gtol': 1e-6, 'disp': True, 'maxiter': 2000})`\n",
    "Dans le résultat `res`, il y a beaucoup d'information, mais le minimiseur est dans `res.x`."
   ]
  },
  {
   "cell_type": "code",
   "execution_count": 18,
   "metadata": {},
   "outputs": [],
   "source": [
    "from scipy.optimize import minimize"
   ]
  },
  {
   "cell_type": "code",
   "execution_count": 19,
   "metadata": {},
   "outputs": [
    {
     "name": "stdout",
     "output_type": "stream",
     "text": [
      "363.70257774265724 363.6619841723789\n",
      "-595.5369679004718 -595.6450351155084\n",
      "555.6767634766402 555.5723197745644\n",
      "422.5315928802331 422.46541366515885\n"
     ]
    }
   ],
   "source": [
    "np.random.seed(13)\n",
    "N=Neur.Network([Neur.Dense(1,12),Neur.Sigmoid(),Neur.Dense(12,1)])\n",
    "N_a=Neur.Network([N,Neur.Loss_L2(Y)])\n",
    "\n",
    "\n",
    "def func(u, NN, X):\n",
    "    NN.set_params(u)\n",
    "    return NN.forward(X)\n",
    "\n",
    "def nablafunc(u, NN, X):\n",
    "    NN.set_params(u)\n",
    "    ignore = NN.forward(X)\n",
    "    return NN.backward(None)[0]\n",
    "\n",
    "# This is for verifying the gradient\n",
    "u=N_a.get_params()\n",
    "np.random.seed(42)\n",
    "eps=1.e-4\n",
    "c=func(u, N_a, X)\n",
    "grad=nablafunc(u, N_a, X)\n",
    "for i in range(4) :\n",
    "    d=np.random.randn(u.shape[0])\n",
    "    c2=func(u+eps*d, N_a, X)\n",
    "    print((c2-c)/eps,np.dot(d,grad))\n"
   ]
  },
  {
   "cell_type": "markdown",
   "metadata": {},
   "source": [
    "### Using BFGS algorithm"
   ]
  },
  {
   "cell_type": "code",
   "execution_count": 20,
   "metadata": {},
   "outputs": [
    {
     "name": "stdout",
     "output_type": "stream",
     "text": [
      "Warning: Maximum number of iterations has been exceeded.\n",
      "         Current function value: 0.000551\n",
      "         Iterations: 2000\n",
      "         Function evaluations: 2250\n",
      "         Gradient evaluations: 2250\n"
     ]
    }
   ],
   "source": [
    "theta_0 = np.random.randn(N_a.nb_params)\n",
    "N_a.set_params(theta_0)\n",
    "Y_before = N.forward(X)\n",
    "max_nb_attempts = 10\n",
    "nb_attemps = 0\n",
    "res = minimize(func, u, args=(N_a, X), method='BFGS', \n",
    "               jac=nablafunc, options={'gtol': 1e-6, \n",
    "                                       'disp':True, \n",
    "                                       'maxiter': 2000})\n",
    "best_sol = res\n",
    "\n"
   ]
  },
  {
   "cell_type": "code",
   "execution_count": 21,
   "metadata": {},
   "outputs": [
    {
     "data": {
      "text/plain": [
       "(0.0005505815237490092,\n",
       " array([  9.73443684,  -1.47450822,  26.25556205, -20.06355229,\n",
       "          4.89932189,  -1.30201671, -13.95805529, -19.6613895 ,\n",
       "         17.06422722,  -4.14681567,  11.93185113, -21.42445325,\n",
       "          1.49144731,   0.47643784, -14.35919744,  13.51531175,\n",
       "         -3.42669076,   3.44456067,  23.55709825,  17.36304253,\n",
       "         24.46047216,   3.47052557,  -4.04732331,  13.06134139,\n",
       "        -11.17209634, -36.44927838,  -1.65088913,  13.11237162,\n",
       "         52.59324376,  34.17933177, -24.52275697,  22.83949663,\n",
       "         27.56516496, -30.78763853, -22.58876625,   9.95774752,\n",
       "        -21.88311321]),\n",
       " False)"
      ]
     },
     "execution_count": 21,
     "metadata": {},
     "output_type": "execute_result"
    }
   ],
   "source": [
    "best_sol.fun, best_sol.x, best_sol.success"
   ]
  },
  {
   "cell_type": "code",
   "execution_count": 26,
   "metadata": {},
   "outputs": [],
   "source": [
    "theta = best_sol.x\n",
    "N_a.set_params(theta)\n",
    "Y_after = N.forward(X)\n",
    "Y_real = original_function(X)\n",
    "df = pd.DataFrame({'X':X[0], 'Y_before':Y_before[0], \n",
    "                   'Y_after':Y_after[0], 'Y_real':Y_real[0]})\n",
    "df = df.sort_values('X')"
   ]
  },
  {
   "cell_type": "code",
   "execution_count": 27,
   "metadata": {},
   "outputs": [
    {
     "data": {
      "image/png": "[encoded data removed]",
      "text/plain": [
       "<Figure size 432x288 with 1 Axes>"
      ]
     },
     "metadata": {
      "needs_background": "light"
     },
     "output_type": "display_data"
    }
   ],
   "source": [
    "fig = plt.figure()\n",
    "ax = fig.add_subplot(1, 1, 1)\n",
    "ax.plot(np.array(df['X']), np.array(df['Y_before']), label='before')\n",
    "ax.plot(np.array(df['X']), np.array(df['Y_after']), label='after')\n",
    "ax.scatter(np.array(df['X']), np.array(df['Y_real']), label='real')\n",
    "\n",
    "plt.legend(loc='best')\n",
    "plt.show()"
   ]
  },
  {
   "cell_type": "markdown",
   "metadata": {},
   "source": [
    "### Using Nelder-Mead algorithm"
   ]
  },
  {
   "cell_type": "code",
   "execution_count": 28,
   "metadata": {},
   "outputs": [],
   "source": [
    "theta_0 = np.random.randn(N_a.nb_params)\n",
    "N_a.set_params(theta_0)\n",
    "Y_before = N.forward(X)\n",
    "max_nb_attempts = 2000\n",
    "nb_attemps = 0\n",
    "res = minimize(func, theta_0, args=(N_a, X))\n",
    "best_sol = res\n",
    "\n",
    "    "
   ]
  },
  {
   "cell_type": "code",
   "execution_count": 29,
   "metadata": {},
   "outputs": [
    {
     "data": {
      "text/plain": [
       "False"
      ]
     },
     "execution_count": 29,
     "metadata": {},
     "output_type": "execute_result"
    }
   ],
   "source": [
    "res.success"
   ]
  },
  {
   "cell_type": "code",
   "execution_count": 34,
   "metadata": {},
   "outputs": [
    {
     "data": {
      "image/png": "[encoded data removed]",
      "text/plain": [
       "<Figure size 432x288 with 1 Axes>"
      ]
     },
     "metadata": {
      "needs_background": "light"
     },
     "output_type": "display_data"
    }
   ],
   "source": [
    "theta = res.x\n",
    "N_a.set_params(theta)\n",
    "\n",
    "Y = N.forward(X)\n",
    "Y_real = original_function(X)\n",
    "df = pd.DataFrame({'X':X[0], 'Y_before':Y_before[0], \n",
    "                   'Y_after':Y[0], 'Y_real':Y_real[0]})\n",
    "df = df.sort_values('X')\n",
    "\n",
    "fig = plt.figure()\n",
    "ax = fig.add_subplot(1, 1, 1)\n",
    "ax.plot(np.array(df['X']), np.array(df['Y_before']), \n",
    "        '-b', label='before')\n",
    "ax.plot(np.array(df['X']), np.array(df['Y_after']), '-r',\n",
    "        label='after')\n",
    "ax.scatter(np.array(df['X']), np.array(df['Y_real']), label='real')\n",
    "\n",
    "plt.legend(loc='best')\n",
    "plt.show()"
   ]
  },
  {
   "cell_type": "code",
   "execution_count": null,
   "metadata": {},
   "outputs": [],
   "source": []
  }
 ],
 "metadata": {
  "kernelspec": {
   "display_name": "Python 3",
   "language": "python",
   "name": "python3"
  },
  "language_info": {
   "codemirror_mode": {
    "name": "ipython",
    "version": 3
   },
   "file_extension": ".py",
   "mimetype": "text/x-python",
   "name": "python",
   "nbconvert_exporter": "python",
   "pygments_lexer": "ipython3",
   "version": "3.7.6"
  }
 },
 "nbformat": 4,
 "nbformat_minor": 1
}
