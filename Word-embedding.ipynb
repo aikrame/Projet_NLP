{
 "cells": [
  {
   "cell_type": "markdown",
   "metadata": {},
   "source": [
    "# Import et fonction de nettoyage de texte"
   ]
  },
  {
   "cell_type": "code",
   "execution_count": 1,
   "metadata": {},
   "outputs": [],
   "source": [
    "import re\n",
    "import numpy as np\n",
    "import itertools\n",
    "import pandas as pd\n",
    "import numpy as np\n",
    "import re\n",
    "import os\n",
    "from sklearn.model_selection import train_test_split\n",
    "from tqdm import tqdm\n",
    "import csv \n",
    "%matplotlib inline\n",
    "import matplotlib.pyplot as plt\n",
    "import seaborn as sb\n",
    "sb.set_style(\"whitegrid\")\n",
    "\n",
    "from utility import euclidean\n",
    "from utility import find_similar"
   ]
  },
  {
   "cell_type": "code",
   "execution_count": 2,
   "metadata": {},
   "outputs": [],
   "source": [
    "def create_unique_word_dict(text:list) -> dict:\n",
    "    \"\"\"\n",
    "    Dictionnaire de mot unique, les clés sont les mots et les valeurs sotn les indices des mots\n",
    "    \"\"\"\n",
    "    # Getting all the unique words from our text and sorting them alphabetically\n",
    "    words = list(set(text))\n",
    "    words.sort()\n",
    "\n",
    "    # Creating the dictionary for the unique words\n",
    "    unique_word_dict = {}\n",
    "    for i, word in enumerate(words):\n",
    "        unique_word_dict.update({\n",
    "            word: i\n",
    "        })\n",
    "\n",
    "    return unique_word_dict    \n",
    "\n",
    "def text_preprocessing(\n",
    "    text:list,\n",
    "    punctuations = r'''!()-[]{};:'\"`\\,<>./?@#$%^&*_“|+=~σ''',\n",
    "    stop_words=['and', 'a', 'is', 'the', 'in', 'be', 'will', ' http','arxiv','org', 'of']\n",
    "    )->list:\n",
    "    \"\"\"\n",
    "    Nettoyage du text, stop words et caractères.\n",
    "    \"\"\"\n",
    "    for x in text.lower(): \n",
    "        if x in punctuations: \n",
    "            text = text.replace(x, \"\")\n",
    "\n",
    "    # Removing words that have numbers in them\n",
    "    text = re.sub(r'\\w*\\d\\w*', '', text)\n",
    "\n",
    "    # Removing digits\n",
    "    text = re.sub(r'[0-9]+', '', text)\n",
    "\n",
    "    # Cleaning the whitespaces\n",
    "    text = re.sub(r'\\s+', ' ', text).strip()\n",
    "\n",
    "    # Setting every word to lower\n",
    "    text = text.lower()\n",
    "\n",
    "    # Converting all our text to a list \n",
    "    text = text.split(' ')\n",
    "\n",
    "    # Droping empty strings\n",
    "    text = [x for x in text if x!='']\n",
    "\n",
    "    # Droping stop words\n",
    "    text = [x for x in text if x not in stop_words]\n",
    "\n",
    "    return text"
   ]
  },
  {
   "cell_type": "code",
   "execution_count": 3,
   "metadata": {},
   "outputs": [],
   "source": [
    "def file_dict(filename):\n",
    "\n",
    "    \n",
    "    if filename=='input/arxiv_test.csv':\n",
    "        \n",
    "        with open(filename,encoding='utf8') as fichier:\n",
    "            lines= fichier.readlines()\n",
    "            texts=[]\n",
    "            for i in lines:\n",
    "                texts+=[i.split('|')[1]+' '+ i.split('|')[4]]\n",
    "    else:\n",
    "        texts = pd.read_csv(filename,error_bad_lines=False)\n",
    "        texts = [x for x in texts['text']]#liste des lignes\n",
    "        \n",
    "    word_lists = []\n",
    "    all_text = []\n",
    "\n",
    "    for text in texts:\n",
    "\n",
    "    # Cleaning the text\n",
    "        text = text_preprocessing(text)\n",
    "        all_text += text\n",
    "    unique_word_dict = create_unique_word_dict(all_text)\n",
    "\n",
    "    return(all_text,unique_word_dict)"
   ]
  },
  {
   "cell_type": "code",
   "execution_count": 19,
   "metadata": {},
   "outputs": [
    {
     "name": "stdout",
     "output_type": "stream",
     "text": [
      "['future', 'king', 'prince', 'daughter', 'princess', 'son', 'prince', 'only', 'man', 'can', 'king', 'only', 'woman', 'can', 'queen', 'princess', 'queen', 'queen', 'king', 'rule', 'realm', 'prince', 'strong', 'man', 'princess', 'beautiful', 'woman', 'royal', 'family', 'king', 'queen', 'their', 'children', 'prince', 'only', 'boy', 'now', 'boy', 'man']\n",
      "{'beautiful': 0, 'boy': 1, 'can': 2, 'children': 3, 'daughter': 4, 'family': 5, 'future': 6, 'king': 7, 'man': 8, 'now': 9, 'only': 10, 'prince': 11, 'princess': 12, 'queen': 13, 'realm': 14, 'royal': 15, 'rule': 16, 'son': 17, 'strong': 18, 'their': 19, 'woman': 20}\n",
      "39\n"
     ]
    }
   ],
   "source": [
    "file='input/sample.csv'\n",
    "print(file_dict(file)[0])\n",
    "\n",
    "print(file_dict(file)[1])\n",
    "print(len(file_dict(file)[0]))"
   ]
  },
  {
   "cell_type": "markdown",
   "metadata": {},
   "source": [
    "# Préparation des données"
   ]
  },
  {
   "cell_type": "code",
   "execution_count": 20,
   "metadata": {},
   "outputs": [],
   "source": [
    "def create_X(text,dict):\n",
    "    V=len(text)\n",
    "    X=np.zeros((V,len(dict)))\n",
    "    indice=0\n",
    "    for i in text:\n",
    "        for cle, valeur in dict.items():\n",
    "            if i==cle :\n",
    "                \n",
    "                X[indice,valeur]=1\n",
    "        indice+=1\n",
    "    return X"
   ]
  },
  {
   "cell_type": "markdown",
   "metadata": {},
   "source": [
    "c'est ici que l'éxecution est longue (pour la création de A et X)"
   ]
  },
  {
   "cell_type": "code",
   "execution_count": 21,
   "metadata": {},
   "outputs": [],
   "source": [
    "A=create_X(file_dict(file)[0],file_dict(file)[1])\n",
    "\n",
    "X=[]\n",
    "for i in range(np.shape(A)[0]):\n",
    "    for j in range(np.shape(A)[1]):\n",
    "        if A[i,j]==1 :\n",
    "            X.append(j)\n",
    "            \n",
    "# X listes des indices "
   ]
  },
  {
   "cell_type": "code",
   "execution_count": 22,
   "metadata": {},
   "outputs": [],
   "source": [
    "#liste des groupes de 3 mots\n",
    "def context_list(X,context):\n",
    "    list=[]\n",
    "    for i in range(len(X)-context+1):\n",
    "        list.append(X[i:i+context])\n",
    "    return list"
   ]
  },
  {
   "cell_type": "markdown",
   "metadata": {},
   "source": [
    "Voici es données d'entrée"
   ]
  },
  {
   "cell_type": "code",
   "execution_count": 23,
   "metadata": {},
   "outputs": [],
   "source": [
    "#print(context_list(X,3))"
   ]
  },
  {
   "cell_type": "code",
   "execution_count": 24,
   "metadata": {},
   "outputs": [],
   "source": [
    "def vectoword(X,dict): #avec le hot vector je récupère le mot\n",
    "    c=0\n",
    "    d=''\n",
    "    for i in range(len(X)):\n",
    "        if X[i]==1:\n",
    "            c=i\n",
    "    for cle, valeur in dict.items():\n",
    "        if valeur==c:\n",
    "            d=cle\n",
    "    return d\n",
    "def vectoword2(i,dict): #avec l'indice je récupère le mot\n",
    "    c=i\n",
    "    d=''\n",
    "    for cle, valeur in dict.items():\n",
    "        if valeur==c:\n",
    "            d=cle\n",
    "    return d"
   ]
  },
  {
   "cell_type": "code",
   "execution_count": 25,
   "metadata": {},
   "outputs": [
    {
     "name": "stdout",
     "output_type": "stream",
     "text": [
      "future\n"
     ]
    }
   ],
   "source": [
    "print(vectoword2(X[0],file_dict(file)[1]))"
   ]
  },
  {
   "cell_type": "markdown",
   "metadata": {},
   "source": [
    "Pour Y, les sorties, je n'ai besoin que de reprendre les vecteurs de la matrice A correspondant."
   ]
  },
  {
   "cell_type": "code",
   "execution_count": 185,
   "metadata": {},
   "outputs": [],
   "source": [
    "#données\n",
    "n=4\n",
    "x=context_list(X,3)\n",
    "Y=A[3:,]\n",
    "y=[]\n",
    "for i in range(np.shape(Y)[0]):\n",
    "    y.append(Y[i])\n",
    "x=x[:-1]\n",
    "dict_size=len(file_dict(file)[1])\n",
    "nb_features=100\n",
    "h=100"
   ]
  },
  {
   "cell_type": "code",
   "execution_count": 186,
   "metadata": {},
   "outputs": [
    {
     "data": {
      "text/plain": [
       "(36, 21)"
      ]
     },
     "execution_count": 186,
     "metadata": {},
     "output_type": "execute_result"
    }
   ],
   "source": [
    "x=np.array(x)\n",
    "y=np.array(y)\n",
    "y.shape"
   ]
  },
  {
   "cell_type": "markdown",
   "metadata": {},
   "source": [
    "# Réseau "
   ]
  },
  {
   "cell_type": "code",
   "execution_count": 187,
   "metadata": {},
   "outputs": [
    {
     "name": "stdout",
     "output_type": "stream",
     "text": [
      "(6, 36)\n",
      "(36, 21)\n"
     ]
    }
   ],
   "source": [
    "np.random.seed(0)\n",
    "import Neuralword as Neur\n",
    "from Neuralword import ilogit\n",
    "L1 = Neur.Project_and_concat(nb_features,dict_size)\n",
    "#print(self.C)\n",
    "print(np.shape(L1.forward(x)))\n",
    "#print(dict_size)\n",
    "print(np.shape(y))\n",
    "#print(x)"
   ]
  },
  {
   "cell_type": "code",
   "execution_count": 188,
   "metadata": {},
   "outputs": [],
   "source": [
    "#N=Neur.Network([Neur.Project_and_concat(nb_features,dict_size),Neur.Dense(3*nb_features,h),Neur.tanh(),\n",
    "         #       Neur.Dense(h,dict_size)])\n",
    "#print(np.shape((N.forward(x).T)))\n",
    "\n",
    "\n",
    "\n",
    "#print(np.shape(Neur.ilogit(N.forward(x)).T)[0])\n",
    "\n",
    "#np.sum((Neur.ilogit(N.forward(x)).T),axis=1)\n",
    "\n",
    "\n",
    "#for i range(np.shape(Y)[0]):\n",
    "    \n",
    "\n",
    "    \n",
    "    \n",
    "#print(np.shape(N.forward(x)))\n",
    "#np.shape(ilogit(N.forward(x)))\n",
    "#Z=Neur.ilogit(N.forward(x))\n",
    "\n",
    "#print(np.sum(Z.T,axis=1))\n",
    "#print(np.shape(np.sum(Z.T,axis=1)))\n",
    "#print(len(y))\n",
    "\n",
    "#print(np.shape(V))\n",
    "#yn=np.array(y)\n",
    "#yt=yn.T\n",
    "#print(np.shape(x))\n",
    "#print(np.shape(yt))\n",
    "\n"
   ]
  },
  {
   "cell_type": "code",
   "execution_count": 189,
   "metadata": {},
   "outputs": [],
   "source": [
    "N=Neur.Network([Neur.Project_and_concat(nb_features,dict_size),\n",
    "                Neur.Dense(3*nb_features,h),Neur.tanh(),Neur.Dense(h,dict_size)])\n",
    "#N_a=Neur.Network([N,Neur.Ilogit_and_KL(yt)])\n",
    "\n",
    "\n",
    "\n",
    "#Z1=L1.forward(x)\n",
    "#print(Z1)\n",
    "\n",
    "#Z1=L1.forward(x)\n",
    "#print(Z1)\n",
    "\n",
    "\n",
    "#print(np.shape(L1[0]))\n",
    "#print(np.shape(L2[0]))\n",
    "#print(np.shape(L3[0]))\n",
    "#print(np.shape(L4[0]))\n",
    "\n",
    "#L=N_a.forward(x)\n",
    "\n",
    "#G1=N_a.list_layers[-1].backward(L)\n",
    "\n",
    "#print(np.shape(G1[1]))\n",
    "\n",
    "#G2=N_a.list_layers[-2].list_layers[-1].backward(G1[1])\n",
    "#G3=N_a.list_layers[-2].list_layers[-2].backward(G2[1])\n",
    "#G4=N_a.list_layers[-2].list_layers[-3].backward(G3[1])\n",
    "#G5=N_a.list_layers[-2].list_layers[-4].backward(G4[1])\n",
    "\n",
    "#print(np.shape(G5[0]))\n",
    "\n",
    "#Z=N_a.backward(L)\n",
    "\n",
    "#print(L)\n",
    "\n",
    "#print(x)\n",
    "#print(Z[0].shape)\n",
    "\n",
    "#Z=N.forward(x)\n",
    "#print(x.shape)\n",
    "#print(Z.shape)\n",
    "#print(y.shape)\n",
    "#print(Z)"
   ]
  },
  {
   "cell_type": "code",
   "execution_count": 190,
   "metadata": {},
   "outputs": [],
   "source": [
    "def plot_N(N):\n",
    "    Z=N.forward(x)\n",
    "    V=ilogit(Z)\n",
    "    m=0\n",
    "    for i in range(len(y)):\n",
    "        m=np.argmax(V[:,i])\n",
    "        print(vectoword(y[i],file_dict('input/arxiv_test.csv')[1]) + \" prédit par \" + vectoword2(m,file_dict('input/arxiv_test.csv')[1]))"
   ]
  },
  {
   "cell_type": "markdown",
   "metadata": {},
   "source": [
    "## Train test split"
   ]
  },
  {
   "cell_type": "code",
   "execution_count": 191,
   "metadata": {},
   "outputs": [],
   "source": [
    "X_train,X_test,Y_train,Y_test=train_test_split(x,y,test_size=0.2) \n"
   ]
  },
  {
   "cell_type": "code",
   "execution_count": 192,
   "metadata": {},
   "outputs": [
    {
     "name": "stdout",
     "output_type": "stream",
     "text": [
      "(36, 3)\n",
      "(28, 3)\n"
     ]
    }
   ],
   "source": [
    "print(np.shape(x))\n",
    "print(np.shape(X_train))"
   ]
  },
  {
   "cell_type": "code",
   "execution_count": 193,
   "metadata": {},
   "outputs": [],
   "source": [
    "N=Neur.Network([Neur.Project_and_concat(nb_features,dict_size),\n",
    "                Neur.Dense(3*nb_features,h),Neur.tanh(),Neur.Dense(h,dict_size)])\n",
    "N_a=Neur.Network([N,Neur.Ilogit_and_KL(Y_train[0:128].T)])\n"
   ]
  },
  {
   "cell_type": "code",
   "execution_count": 194,
   "metadata": {},
   "outputs": [],
   "source": [
    "#L=N.forward(X_train)\n",
    "#np.shape(N_a.backward(None)[0])"
   ]
  },
  {
   "cell_type": "code",
   "execution_count": 195,
   "metadata": {},
   "outputs": [],
   "source": [
    "def accuracy(x, y):\n",
    "        Z=ilogit(N.forward(x))\n",
    "        y_preds = np.argmax(Z, axis=0)\n",
    "        y_real= np.argmax(y.T, axis=0)\n",
    "        acc = np.mean(y_preds == y_real)\n",
    "        return acc "
   ]
  },
  {
   "cell_type": "code",
   "execution_count": 196,
   "metadata": {},
   "outputs": [
    {
     "name": "stdout",
     "output_type": "stream",
     "text": [
      "(8, 3)\n",
      "(8, 21)\n"
     ]
    }
   ],
   "source": [
    "print(np.shape(X_test))\n",
    "print(np.shape(Y_test))"
   ]
  },
  {
   "cell_type": "code",
   "execution_count": 197,
   "metadata": {},
   "outputs": [
    {
     "name": "stdout",
     "output_type": "stream",
     "text": [
      "fin\n"
     ]
    }
   ],
   "source": [
    "theta=np.random.randn(N.nb_params)\n",
    "N.set_params(theta)\n",
    "acc=[]\n",
    "loss=[]\n",
    "epochs=np.arange(1,400,1)\n",
    "#choix d'un pas\n",
    "dt=0.01/15\n",
    "batchsize=5\n",
    "n_batch=int(X_train.shape[0]/batchsize)+1\n",
    "for i in epochs:\n",
    "   # print(\"epoch{}\".format(i))\n",
    "    for j in range(0,n_batch):\n",
    "        Xbatch=X_train[j*batchsize:min((j+1)*batchsize,X_train.shape[0])]\n",
    "        Ybatch=Y_train[j*batchsize:min((j+1)*batchsize,X_train.shape[0])]\n",
    "        N_a=Neur.Network([N,Neur.Ilogit_and_KL(Ybatch.T)])\n",
    "        deltaY=N_a.forward(Xbatch)\n",
    "        grad=N_a.backward(None)[0]\n",
    "        theta=theta-dt*grad\n",
    "        N_a.set_params(theta)\n",
    "        N.set_params(theta)\n",
    "    acc.append(accuracy(X_train,Y_train))\n",
    "    N_a=Neur.Network([N,Neur.Ilogit_and_KL(Y_train.T)])\n",
    "    loss.append(N_a.forward(X_train))\n",
    "    #if i%40==0:\n",
    "        #plot_N(N)\n",
    "        #print(\"-----------------\")\n",
    "    #print(loss[-1])\n",
    "print(\"fin\")"
   ]
  },
  {
   "cell_type": "code",
   "execution_count": 198,
   "metadata": {},
   "outputs": [
    {
     "name": "stdout",
     "output_type": "stream",
     "text": [
      "1.0\n"
     ]
    },
    {
     "data": {
      "image/png": "[encoded data removed]",
      "text/plain": [
       "<Figure size 1440x360 with 2 Axes>"
      ]
     },
     "metadata": {},
     "output_type": "display_data"
    }
   ],
   "source": [
    "fig = plt.figure(figsize=(20,5))\n",
    "ax = fig.add_subplot(1,2,1)\n",
    "ax.plot(loss,color='r')\n",
    "ax.set_xlabel(\"Epochs\")\n",
    "ax.set_ylabel(\"Loss\")\n",
    "ax.set_title(\"loss function\");\n",
    "ax = fig.add_subplot(1,2,2)\n",
    "ax.plot(acc,color='r')\n",
    "ax.set_ylabel(\"accuracy\")\n",
    "ax.set_xlabel(\"Epochs\")\n",
    "ax.set_title(\"Accuracy\");\n",
    "\n",
    "#Z=ilogit(N.forward(X_train))\n",
    "#y_preds = np.argmax(Z, axis=0)\n",
    "#y_real= np.argmax(yt, axis=0)\n",
    "\n",
    "print(acc[-1])"
   ]
  },
  {
   "cell_type": "code",
   "execution_count": 199,
   "metadata": {},
   "outputs": [
    {
     "name": "stdout",
     "output_type": "stream",
     "text": [
      "sur l'échantillon test :\n",
      "(8,)\n",
      "(8,)\n",
      "0.0\n"
     ]
    }
   ],
   "source": [
    "print(\"sur l'échantillon test :\")\n",
    "Z=ilogit(N.forward(X_test))\n",
    "y_preds = np.argmax(Z, axis=0)\n",
    "y_real= np.argmax(Y_test.T, axis=0)\n",
    "print(y_real.shape)\n",
    "\n",
    "print(y_preds.shape)\n",
    "\n",
    "print(accuracy(X_test,Y_test))"
   ]
  },
  {
   "cell_type": "markdown",
   "metadata": {},
   "source": [
    "## embedding"
   ]
  },
  {
   "cell_type": "code",
   "execution_count": 200,
   "metadata": {},
   "outputs": [
    {
     "data": {
      "text/plain": [
       "(21, 2)"
      ]
     },
     "execution_count": 200,
     "metadata": {},
     "output_type": "execute_result"
    }
   ],
   "source": [
    "emb=N.list_layers[0].get_params()\n",
    "emb=emb.reshape((dict_size, nb_features))\n",
    "emb.shape"
   ]
  },
  {
   "cell_type": "code",
   "execution_count": 201,
   "metadata": {},
   "outputs": [],
   "source": [
    "\n",
    "words = list(file_dict(file)[1])\n",
    "unique_word_dict=file_dict(file)[1]\n",
    "# dictionnaire des embedding. la clé est un mot unique et la valeur est un vecteur.\n",
    "embedding_dict = {}\n",
    "for word in words: \n",
    "    embedding_dict.update({\n",
    "        word: emb[unique_word_dict.get(word)]\n",
    "        })"
   ]
  },
  {
   "cell_type": "code",
   "execution_count": 202,
   "metadata": {},
   "outputs": [],
   "source": [
    "from sklearn.decomposition import PCA\n",
    "from sklearn.preprocessing import scale\n",
    "pca = PCA()\n",
    "C = pca.fit(emb).transform(emb)\n",
    "\n"
   ]
  },
  {
   "cell_type": "code",
   "execution_count": 203,
   "metadata": {},
   "outputs": [
    {
     "data": {
      "image/png": "[encoded data removed]",
      "text/plain": [
       "<Figure size 360x360 with 1 Axes>"
      ]
     },
     "metadata": {},
     "output_type": "display_data"
    }
   ],
   "source": [
    "plt.figure(figsize=(5,5))\n",
    "for i, j , word in zip(C[:,0], C[:,1],list(unique_word_dict.keys())):\n",
    "    plt.plot(i, j, \"o\")\n",
    "    plt.annotate(word, (i, j))  \n",
    "plt.show()\n"
   ]
  },
  {
   "cell_type": "markdown",
   "metadata": {},
   "source": [
    "## Tensorflow"
   ]
  },
  {
   "cell_type": "code",
   "execution_count": 71,
   "metadata": {},
   "outputs": [
    {
     "name": "stdout",
     "output_type": "stream",
     "text": [
      "697\n"
     ]
    }
   ],
   "source": [
    "from tensorflow.keras.optimizers import SGD\n",
    "from tensorflow.keras.utils import to_categorical\n",
    "from keras.layers.convolutional import Conv2D, MaxPooling2D\n",
    "from keras.models import Sequential\n",
    "from keras.layers import Dense, Activation, Flatten\n",
    "n_classes = dict_size\n",
    "n_hidden = h\n",
    "print(dict_size)"
   ]
  },
  {
   "cell_type": "code",
   "execution_count": 72,
   "metadata": {},
   "outputs": [
    {
     "data": {
      "text/plain": [
       "(1411, 3, 100)"
      ]
     },
     "execution_count": 72,
     "metadata": {},
     "output_type": "execute_result"
    }
   ],
   "source": [
    "concat=Neur.Project(nb_features,dict_size)\n",
    "a=concat.forward(x)\n",
    "a.shape\n"
   ]
  },
  {
   "cell_type": "code",
   "execution_count": null,
   "metadata": {},
   "outputs": [],
   "source": []
  },
  {
   "cell_type": "code",
   "execution_count": 73,
   "metadata": {},
   "outputs": [],
   "source": [
    "KX_train,KX_test,KY_train,KY_test=train_test_split(a,y,test_size=0.25)"
   ]
  },
  {
   "cell_type": "code",
   "execution_count": null,
   "metadata": {},
   "outputs": [],
   "source": []
  },
  {
   "cell_type": "code",
   "execution_count": 74,
   "metadata": {},
   "outputs": [
    {
     "name": "stdout",
     "output_type": "stream",
     "text": [
      "Epoch 1/15\n",
      "353/353 [==============================] - 1s 2ms/step - loss: 6.5601 - accuracy: 0.0075 - val_loss: 6.4841 - val_accuracy: 0.0283\n",
      "Epoch 2/15\n",
      "353/353 [==============================] - 1s 1ms/step - loss: 5.2548 - accuracy: 0.4053 - val_loss: 6.4796 - val_accuracy: 0.0538\n",
      "Epoch 3/15\n",
      "353/353 [==============================] - 1s 1ms/step - loss: 3.9561 - accuracy: 0.6763 - val_loss: 6.5089 - val_accuracy: 0.0538\n",
      "Epoch 4/15\n",
      "353/353 [==============================] - 1s 1ms/step - loss: 2.7042 - accuracy: 0.8052 - val_loss: 6.5423 - val_accuracy: 0.0680\n",
      "Epoch 5/15\n",
      "353/353 [==============================] - 1s 1ms/step - loss: 1.6692 - accuracy: 0.9007 - val_loss: 6.5932 - val_accuracy: 0.0765\n",
      "Epoch 6/15\n",
      "353/353 [==============================] - 1s 1ms/step - loss: 0.8969 - accuracy: 0.9569 - val_loss: 6.6760 - val_accuracy: 0.0822\n",
      "Epoch 7/15\n",
      "353/353 [==============================] - 1s 1ms/step - loss: 0.5014 - accuracy: 0.9641 - val_loss: 6.7622 - val_accuracy: 0.0822\n",
      "Epoch 8/15\n",
      "353/353 [==============================] - 0s 1ms/step - loss: 0.2769 - accuracy: 0.9798 - val_loss: 6.8421 - val_accuracy: 0.0793\n",
      "Epoch 9/15\n",
      "353/353 [==============================] - 1s 1ms/step - loss: 0.1954 - accuracy: 0.9833 - val_loss: 6.9105 - val_accuracy: 0.0850\n",
      "Epoch 10/15\n",
      "353/353 [==============================] - 0s 1ms/step - loss: 0.1550 - accuracy: 0.9745 - val_loss: 6.9733 - val_accuracy: 0.0822\n",
      "Epoch 11/15\n",
      "353/353 [==============================] - 0s 1ms/step - loss: 0.1115 - accuracy: 0.9866 - val_loss: 7.0315 - val_accuracy: 0.0793\n",
      "Epoch 12/15\n",
      "353/353 [==============================] - 0s 1ms/step - loss: 0.1073 - accuracy: 0.9711 - val_loss: 7.0821 - val_accuracy: 0.0793\n",
      "Epoch 13/15\n",
      "353/353 [==============================] - 1s 1ms/step - loss: 0.0814 - accuracy: 0.9831 - val_loss: 7.1271 - val_accuracy: 0.0850\n",
      "Epoch 14/15\n",
      "353/353 [==============================] - 0s 1ms/step - loss: 0.0884 - accuracy: 0.9775 - val_loss: 7.1841 - val_accuracy: 0.0878\n",
      "Epoch 15/15\n",
      "353/353 [==============================] - 0s 1ms/step - loss: 0.0704 - accuracy: 0.9769 - val_loss: 7.2190 - val_accuracy: 0.0963\n",
      "Model: \"sequential_5\"\n",
      "_________________________________________________________________\n",
      "Layer (type)                 Output Shape              Param #   \n",
      "=================================================================\n",
      "flatten_2 (Flatten)          (None, 300)               0         \n",
      "_________________________________________________________________\n",
      "dense_4 (Dense)              (None, 100)               30100     \n",
      "_________________________________________________________________\n",
      "dense_5 (Dense)              (None, 697)               70397     \n",
      "=================================================================\n",
      "Total params: 100,497\n",
      "Trainable params: 100,497\n",
      "Non-trainable params: 0\n",
      "_________________________________________________________________\n"
     ]
    }
   ],
   "source": [
    "# %load solutions/mlp_keras.py\n",
    "keras_model = Sequential()\n",
    "keras_model.add(Flatten())\n",
    "keras_model.add(Dense(n_hidden, input_dim=a.shape[0], activation='tanh'))\n",
    "keras_model.add(Dense(dict_size, activation='softmax'))\n",
    "\n",
    "keras_model.compile(optimizer='adam',\n",
    "                    loss='categorical_crossentropy', metrics=['accuracy'])\n",
    "\n",
    "history = keras_model.fit(KX_train,(KY_train), epochs=15, batch_size=3, validation_data = (KX_test,(KY_test)))\n",
    "keras_model.summary()"
   ]
  },
  {
   "cell_type": "code",
   "execution_count": 75,
   "metadata": {},
   "outputs": [],
   "source": [
    "keras_loss=history.history[\"loss\"]\n",
    "keras_acc=history.history[\"accuracy\"]\n",
    "\n",
    "keras_valloss=history.history[\"val_loss\"]\n",
    "keras_valacc=history.history[\"val_accuracy\"]"
   ]
  },
  {
   "cell_type": "code",
   "execution_count": 76,
   "metadata": {},
   "outputs": [
    {
     "data": {
      "text/plain": [
       "<matplotlib.legend.Legend at 0x1a7a82de7c0>"
      ]
     },
     "execution_count": 76,
     "metadata": {},
     "output_type": "execute_result"
    },
    {
     "data": {
      "image/png": "[encoded data removed]",
      "text/plain": [
       "<Figure size 1440x360 with 2 Axes>"
      ]
     },
     "metadata": {},
     "output_type": "display_data"
    }
   ],
   "source": [
    "sb.set_style(\"whitegrid\")\n",
    "fig = plt.figure(figsize=(20,5))\n",
    "ax = fig.add_subplot(1,2,1)\n",
    "ax.plot(keras_loss,color='r',label=\"train data\")\n",
    "ax.plot(keras_valloss,color='b',label=\"test data\")\n",
    "ax.set_xlabel(\"Epochs\")\n",
    "ax.set_ylabel(\"Loss\")\n",
    "ax.set_title(\"fonction perte\");\n",
    "ax.legend(loc='best')\n",
    "ax = fig.add_subplot(1,2,2)\n",
    "ax.plot(keras_acc,color='r',label=\"train data\")\n",
    "ax.plot(keras_valacc,color='b',label=\"test data\")\n",
    "ax.set_ylabel(\"accuracy\")\n",
    "ax.set_xlabel(\"Epochs\")\n",
    "ax.set_title(\"Accuracy\");\n",
    "ax.legend(loc='best')\n",
    "#Z=ilogit(N.forward(X_train))\n",
    "#y_preds = np.argmax(Z, axis=0)\n",
    "#y_real= np.argmax(yt, axis=0)\n"
   ]
  },
  {
   "cell_type": "code",
   "execution_count": 77,
   "metadata": {},
   "outputs": [
    {
     "name": "stdout",
     "output_type": "stream",
     "text": [
      "(300, 100)\n"
     ]
    }
   ],
   "source": [
    "weights = keras_model.get_weights()[0]\n",
    "\n",
    "print(weights.shape)\n"
   ]
  },
  {
   "cell_type": "code",
   "execution_count": 78,
   "metadata": {},
   "outputs": [
    {
     "ename": "IndexError",
     "evalue": "index 300 is out of bounds for axis 0 with size 300",
     "output_type": "error",
     "traceback": [
      "\u001b[1;31m---------------------------------------------------------------------------\u001b[0m",
      "\u001b[1;31mIndexError\u001b[0m                                Traceback (most recent call last)",
      "\u001b[1;32m<ipython-input-78-802c2aef557e>\u001b[0m in \u001b[0;36m<module>\u001b[1;34m\u001b[0m\n\u001b[0;32m      3\u001b[0m \u001b[1;32mfor\u001b[0m \u001b[0mword\u001b[0m \u001b[1;32min\u001b[0m \u001b[0mwords\u001b[0m\u001b[1;33m:\u001b[0m\u001b[1;33m\u001b[0m\u001b[1;33m\u001b[0m\u001b[0m\n\u001b[0;32m      4\u001b[0m     embedding_dict.update({\n\u001b[1;32m----> 5\u001b[1;33m         \u001b[0mword\u001b[0m\u001b[1;33m:\u001b[0m \u001b[0mweights\u001b[0m\u001b[1;33m[\u001b[0m\u001b[0munique_word_dict\u001b[0m\u001b[1;33m.\u001b[0m\u001b[0mget\u001b[0m\u001b[1;33m(\u001b[0m\u001b[0mword\u001b[0m\u001b[1;33m)\u001b[0m\u001b[1;33m]\u001b[0m\u001b[1;33m\u001b[0m\u001b[1;33m\u001b[0m\u001b[0m\n\u001b[0m\u001b[0;32m      6\u001b[0m         })\n",
      "\u001b[1;31mIndexError\u001b[0m: index 300 is out of bounds for axis 0 with size 300"
     ]
    }
   ],
   "source": []
  },
  {
   "cell_type": "code",
   "execution_count": null,
   "metadata": {},
   "outputs": [],
   "source": []
  },
  {
   "cell_type": "code",
   "execution_count": null,
   "metadata": {},
   "outputs": [],
   "source": []
  },
  {
   "cell_type": "code",
   "execution_count": null,
   "metadata": {},
   "outputs": [],
   "source": [
    "v1=embedding_dict.get('future')\n",
    "v2=embedding_dict.get('son')\n",
    "euclidean(v1,v2)"
   ]
  },
  {
   "cell_type": "code",
   "execution_count": null,
   "metadata": {},
   "outputs": [],
   "source": []
  }
 ],
 "metadata": {
  "kernelspec": {
   "display_name": "Python 3",
   "language": "python",
   "name": "python3"
  },
  "language_info": {
   "codemirror_mode": {
    "name": "ipython",
    "version": 3
   },
   "file_extension": ".py",
   "mimetype": "text/x-python",
   "name": "python",
   "nbconvert_exporter": "python",
   "pygments_lexer": "ipython3",
   "version": "3.8.5"
  }
 },
 "nbformat": 4,
 "nbformat_minor": 4
}
